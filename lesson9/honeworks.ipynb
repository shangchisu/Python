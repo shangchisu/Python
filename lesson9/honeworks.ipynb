{
 "cells": [
  {
   "cell_type": "code",
   "execution_count": null,
   "id": "ee3f1b22",
   "metadata": {},
   "outputs": [
    {
     "name": "stdout",
     "output_type": "stream",
     "text": [
      "隨機抽取2位\n",
      "['傅佳琳', '吳明妮']\n"
     ]
    }
   ],
   "source": [
    "import random\n",
    "try:\n",
    "    source: int = int (input(\"請輸入預計抽獎人數(1~299號間)\"))\n",
    "    if source < 1 or source > 299:\n",
    "        raise Exception(\"未在規定範圍(1~299號間)，請重新輸入\") #自己輸入raise錯誤\n",
    "    \n",
    "except ValueError:\n",
    "    print(\"輸入格式錯誤\")\n",
    "except Exception as e:\n",
    "    print(e)\n",
    "\n",
    "file = open(\"names.txt\",encoding='utf-8')\n",
    "contents:list[str] = file.readlines()\n",
    "names:list[str] = [name.strip() for name in contents]\n",
    "\n",
    "sample = random.sample(names, source)\n",
    "print(f'隨機抽取{source}位')\n",
    "print(sample)\n",
    "\n",
    "file.close()"
   ]
  }
 ],
 "metadata": {
  "kernelspec": {
   "display_name": "base",
   "language": "python",
   "name": "python3"
  },
  "language_info": {
   "codemirror_mode": {
    "name": "ipython",
    "version": 3
   },
   "file_extension": ".py",
   "mimetype": "text/x-python",
   "name": "python",
   "nbconvert_exporter": "python",
   "pygments_lexer": "ipython3",
   "version": "3.12.9"
  }
 },
 "nbformat": 4,
 "nbformat_minor": 5
}
