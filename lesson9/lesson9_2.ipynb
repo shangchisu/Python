{
 "cells": [
  {
   "cell_type": "markdown",
   "id": "f4bda591",
   "metadata": {},
   "source": [
    "### 自訂的class"
   ]
  },
  {
   "cell_type": "code",
   "execution_count": 9,
   "id": "e8bf36a4",
   "metadata": {},
   "outputs": [],
   "source": [
    "class Student:\n",
    "    def __init__(self,name:str, chinese:int, english:int, math:int):\n",
    "        self.name = name\n",
    "        self.chinese = chinese\n",
    "        self.english =english\n",
    "        self.math = math\n",
    "\n",
    "    @property\n",
    "    def total(self)->int:\n",
    "        return self.chinese + self.english + self.math\n",
    "    \n",
    "    def average(self)->float:\n",
    "        return round (self.total / 3.0, ndigits=2)\n",
    "    \n",
    "    def __repr__(self)->str:\n",
    "        return f'{self.name}的相關資料'"
   ]
  },
  {
   "cell_type": "code",
   "execution_count": 10,
   "id": "a698db5c",
   "metadata": {},
   "outputs": [
    {
     "name": "stdout",
     "output_type": "stream",
     "text": [
      "<class '__main__.Student'>\n",
      "rober 98 76 89\n",
      "263\n",
      "87.67\n",
      "rober的相關資料\n"
     ]
    }
   ],
   "source": [
    "stu1 =Student(name='rober',chinese=98, english=76, math=89)\n",
    "print(type(stu1))\n",
    "print(stu1.name, stu1.chinese, stu1.english, stu1.math)\n",
    "print(stu1.total)\n",
    "print(stu1.average())\n",
    "print(stu1)"
   ]
  },
  {
   "cell_type": "code",
   "execution_count": 11,
   "id": "9f7cfb67",
   "metadata": {},
   "outputs": [
    {
     "name": "stdout",
     "output_type": "stream",
     "text": [
      "<class '__main__.Student'>\n",
      "jenny 89 78 65\n",
      "232\n",
      "77.33\n",
      "jenny的相關資料\n"
     ]
    }
   ],
   "source": [
    "stu2 =Student(name='jenny', chinese=89, english=78, math=65)\n",
    "print(type(stu2))\n",
    "print(stu2.name, stu2.chinese, stu2.english, stu2.math)\n",
    "print(stu2.total)\n",
    "print(stu2.average())\n",
    "print(stu2)"
   ]
  }
 ],
 "metadata": {
  "kernelspec": {
   "display_name": "base",
   "language": "python",
   "name": "python3"
  },
  "language_info": {
   "codemirror_mode": {
    "name": "ipython",
    "version": 3
   },
   "file_extension": ".py",
   "mimetype": "text/x-python",
   "name": "python",
   "nbconvert_exporter": "python",
   "pygments_lexer": "ipython3",
   "version": "3.12.9"
  }
 },
 "nbformat": 4,
 "nbformat_minor": 5
}
