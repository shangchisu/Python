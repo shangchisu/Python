{
 "cells": [
  {
   "cell_type": "code",
   "execution_count": 6,
   "id": "3ba01a04",
   "metadata": {},
   "outputs": [
    {
     "name": "stdout",
     "output_type": "stream",
     "text": [
      "丁\n"
     ]
    }
   ],
   "source": [
    "source = int(input(\"請輸入學生分數0~100\"))\n",
    "if source < 60:\n",
    "    print(\"丁\")\n",
    "elif source < 70:\n",
    "    print(\"丙\")\n",
    "elif source < 80:\n",
    "    print(\"乙\")\n",
    "elif source < 90:\n",
    "    print(\"甲\")\n",
    "else:\n",
    "    print(\"優\")\n",
    " "
   ]
  },
  {
   "cell_type": "markdown",
   "id": "f151fc91",
   "metadata": {},
   "source": [
    "### 組合兩個條件\n",
    "- 巢狀判斷\n",
    "- 邏輯運算值(and 或 or)"
   ]
  },
  {
   "cell_type": "code",
   "execution_count": 11,
   "id": "7a73d001",
   "metadata": {},
   "outputs": [
    {
     "name": "stdout",
     "output_type": "stream",
     "text": [
      "獎金0\n"
     ]
    }
   ],
   "source": [
    "# 國文100同時數學100->1000元\n",
    "# 國文100或者數學100->500元\n",
    "# 其他->0元\n",
    "\n",
    "chinese = int(input(\"請輸入國文分數\"))\n",
    "math = int(input(\"請輸入數學分數\"))\n",
    "\n",
    "if chinese == 100 and math == 100:\n",
    "    print(\"獎金1000\")\n",
    "elif chinese ==100 or math == 100:\n",
    "    print(\"獎金500\")\n",
    "else :\n",
    "    print(\"獎金0\")"
   ]
  }
 ],
 "metadata": {
  "kernelspec": {
   "display_name": "base",
   "language": "python",
   "name": "python3"
  },
  "language_info": {
   "codemirror_mode": {
    "name": "ipython",
    "version": 3
   },
   "file_extension": ".py",
   "mimetype": "text/x-python",
   "name": "python",
   "nbconvert_exporter": "python",
   "pygments_lexer": "ipython3",
   "version": "3.12.9"
  }
 },
 "nbformat": 4,
 "nbformat_minor": 5
}
