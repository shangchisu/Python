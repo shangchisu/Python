{
 "cells": [
  {
   "cell_type": "code",
   "execution_count": 6,
   "id": "3ba01a04",
   "metadata": {},
   "outputs": [
    {
     "name": "stdout",
     "output_type": "stream",
     "text": [
      "丁\n"
     ]
    }
   ],
   "source": [
    "source = int(input(\"請輸入學生分數0~100\"))\n",
    "if source < 60:\n",
    "    print(\"丁\")\n",
    "elif source < 70:\n",
    "    print(\"丙\")\n",
    "elif source < 80:\n",
    "    print(\"乙\")\n",
    "elif source < 90:\n",
    "    print(\"甲\")\n",
    "else:\n",
    "    print(\"優\")\n",
    " "
   ]
  }
 ],
 "metadata": {
  "kernelspec": {
   "display_name": "base",
   "language": "python",
   "name": "python3"
  },
  "language_info": {
   "codemirror_mode": {
    "name": "ipython",
    "version": 3
   },
   "file_extension": ".py",
   "mimetype": "text/x-python",
   "name": "python",
   "nbconvert_exporter": "python",
   "pygments_lexer": "ipython3",
   "version": "3.12.9"
  }
 },
 "nbformat": 4,
 "nbformat_minor": 5
}
