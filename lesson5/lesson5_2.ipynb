{
 "cells": [
  {
   "cell_type": "markdown",
   "id": "c97e6f23",
   "metadata": {},
   "source": [
    "### 迴圈\n",
    "### for... in..."
   ]
  },
  {
   "cell_type": "code",
   "execution_count": 2,
   "id": "213eabe3",
   "metadata": {},
   "outputs": [
    {
     "data": {
      "text/plain": [
       "55"
      ]
     },
     "execution_count": 2,
     "metadata": {},
     "output_type": "execute_result"
    }
   ],
   "source": [
    "#1~10相加總\n",
    "n = 0\n",
    "n += 1\n",
    "n += 2\n",
    "n += 3\n",
    "n += 4\n",
    "n += 5\n",
    "n += 6\n",
    "n += 7\n",
    "n += 8\n",
    "n += 9\n",
    "n += 10\n",
    "\n",
    "n"
   ]
  },
  {
   "cell_type": "code",
   "execution_count": 5,
   "id": "87a7d7c8",
   "metadata": {},
   "outputs": [
    {
     "name": "stdout",
     "output_type": "stream",
     "text": [
      "0\n",
      "1\n",
      "2\n",
      "3\n",
      "4\n",
      "5\n",
      "6\n",
      "7\n",
      "8\n",
      "9\n"
     ]
    }
   ],
   "source": [
    "# 說明range()\n",
    "\n",
    "for i in range(10):\n",
    "    print(i)"
   ]
  },
  {
   "cell_type": "code",
   "execution_count": 7,
   "id": "d3a8a645",
   "metadata": {},
   "outputs": [
    {
     "name": "stdout",
     "output_type": "stream",
     "text": [
      "1\n",
      "3\n",
      "5\n",
      "7\n",
      "9\n"
     ]
    }
   ],
   "source": [
    "for i in range(1,10,2):\n",
    "    print(i)"
   ]
  },
  {
   "cell_type": "code",
   "execution_count": 11,
   "id": "14353574",
   "metadata": {},
   "outputs": [
    {
     "name": "stdout",
     "output_type": "stream",
     "text": [
      "total=15\n"
     ]
    }
   ],
   "source": [
    "n = int(input(\"請輸入n的值\"))\n",
    "total = 0\n",
    "for i in range(1,n+1):\n",
    "    total += i\n",
    "print(f\"total={total}\")"
   ]
  },
  {
   "cell_type": "code",
   "execution_count": null,
   "id": "ade0287c",
   "metadata": {},
   "outputs": [
    {
     "name": "stdout",
     "output_type": "stream",
     "text": [
      "i=1\n",
      "j=1j=2j=3j=4j=5j=6j=7j=8j=9\n",
      "i=2\n",
      "j=1j=2j=3j=4j=5j=6j=7j=8j=9\n",
      "i=3\n",
      "j=1j=2j=3j=4j=5j=6j=7j=8j=9\n",
      "i=4\n",
      "j=1j=2j=3j=4j=5j=6j=7j=8j=9\n",
      "i=5\n",
      "j=1j=2j=3j=4j=5j=6j=7j=8j=9\n",
      "i=6\n",
      "j=1j=2j=3j=4j=5j=6j=7j=8j=9\n",
      "i=7\n",
      "j=1j=2j=3j=4j=5j=6j=7j=8j=9\n",
      "i=8\n",
      "j=1j=2j=3j=4j=5j=6j=7j=8j=9\n",
      "i=9\n",
      "j=1j=2j=3j=4j=5j=6j=7j=8j=9\n"
     ]
    }
   ],
   "source": [
    "#巢狀迴圈\n",
    "for i in range(1,10):\n",
    "    print(f\"i={i}\")\n",
    "    for j in range(1,10):\n",
    "        print(f\"j={j}\",end=\"\")\n",
    "    print()\n"
   ]
  }
 ],
 "metadata": {
  "kernelspec": {
   "display_name": "base",
   "language": "python",
   "name": "python3"
  },
  "language_info": {
   "codemirror_mode": {
    "name": "ipython",
    "version": 3
   },
   "file_extension": ".py",
   "mimetype": "text/x-python",
   "name": "python",
   "nbconvert_exporter": "python",
   "pygments_lexer": "ipython3",
   "version": "3.12.9"
  }
 },
 "nbformat": 4,
 "nbformat_minor": 5
}
