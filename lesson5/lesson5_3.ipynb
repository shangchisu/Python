{
 "cells": [
  {
   "cell_type": "markdown",
   "id": "7af77bfa",
   "metadata": {},
   "source": [
    "### while\n",
    "### 不知道執行次數"
   ]
  },
  {
   "cell_type": "code",
   "execution_count": null,
   "id": "f4d97b1a",
   "metadata": {},
   "outputs": [
    {
     "name": "stdout",
     "output_type": "stream",
     "text": [
      "恭喜!已經存了2個月，總共存了62000元\n"
     ]
    }
   ],
   "source": [
    "#小名想要存錢買一輛機車，機車每輛30000元，他將每月存的錢輸入，當存款足夠買機車時，就顯示提示訊息告知\n",
    "#不靈活迴圈\n",
    "\n",
    "doposite = 0\n",
    "month = 0\n",
    "while(doposite < 30000):\n",
    "    month += 1\n",
    "    input_value = int(input(f\"請輸入第{month}月份的存款\"))\n",
    "    doposite += input_value\n",
    "\n",
    "print(f\"恭喜!已經存了{month}個月，總共存了{doposite}元\")\n"
   ]
  }
 ],
 "metadata": {
  "kernelspec": {
   "display_name": "base",
   "language": "python",
   "name": "python3"
  },
  "language_info": {
   "codemirror_mode": {
    "name": "ipython",
    "version": 3
   },
   "file_extension": ".py",
   "mimetype": "text/x-python",
   "name": "python",
   "nbconvert_exporter": "python",
   "pygments_lexer": "ipython3",
   "version": "3.12.9"
  }
 },
 "nbformat": 4,
 "nbformat_minor": 5
}
