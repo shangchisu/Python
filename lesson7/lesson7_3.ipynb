{
 "cells": [
  {
   "cell_type": "markdown",
   "id": "6930608d",
   "metadata": {},
   "source": [
    "### tuple\n",
    "- 不可變變數(immutable)\n",
    "- 串列資料(sequence)->有順序的資料\n",
    "- 可以由符號建立(xxx,xxx,xxxx)"
   ]
  },
  {
   "cell_type": "code",
   "execution_count": 1,
   "id": "05ad9dc1",
   "metadata": {},
   "outputs": [
    {
     "data": {
      "text/plain": [
       "('星期一', '星期二', '星期三', '星期四', '星期五', '星期六', '星期日')"
      ]
     },
     "execution_count": 1,
     "metadata": {},
     "output_type": "execute_result"
    }
   ],
   "source": [
    "weekdays:tuple[str] = ('星期一', '星期二', '星期三', '星期四', '星期五', '星期六', '星期日')\n",
    "weekdays"
   ]
  },
  {
   "cell_type": "code",
   "execution_count": 2,
   "id": "2b524f5b",
   "metadata": {},
   "outputs": [
    {
     "data": {
      "text/plain": [
       "'星期日'"
      ]
     },
     "execution_count": 2,
     "metadata": {},
     "output_type": "execute_result"
    }
   ],
   "source": [
    "#透過索引編號取得元素\n",
    "weekdays[0]\n",
    "weekdays[1]\n",
    "weekdays[6]"
   ]
  },
  {
   "cell_type": "markdown",
   "id": "36affc4b",
   "metadata": {},
   "source": [
    "### tuple 是串列資料(sequence)"
   ]
  },
  {
   "cell_type": "code",
   "execution_count": 3,
   "id": "1622ac63",
   "metadata": {},
   "outputs": [
    {
     "name": "stdout",
     "output_type": "stream",
     "text": [
      "星期一\n",
      "星期二\n",
      "星期三\n",
      "星期四\n",
      "星期五\n",
      "星期六\n",
      "星期日\n"
     ]
    }
   ],
   "source": [
    "for day in weekdays:\n",
    "    print(day)"
   ]
  },
  {
   "cell_type": "markdown",
   "id": "2f4edc87",
   "metadata": {},
   "source": [
    "### tuple 最常用的操作方法->拆解法"
   ]
  },
  {
   "cell_type": "code",
   "execution_count": 5,
   "id": "920460b8",
   "metadata": {},
   "outputs": [
    {
     "data": {
      "text/plain": [
       "345"
      ]
     },
     "execution_count": 5,
     "metadata": {},
     "output_type": "execute_result"
    }
   ],
   "source": [
    "# 將tuple拆解給變數\n",
    "(name, age, scores) = ('robert', 35,345)\n",
    "name\n",
    "age\n",
    "scores\n"
   ]
  },
  {
   "cell_type": "code",
   "execution_count": 6,
   "id": "e43eae32",
   "metadata": {},
   "outputs": [],
   "source": [
    "# 小括號可以省略\n",
    "name, age, scores = 'robert', 35,345"
   ]
  },
  {
   "cell_type": "code",
   "execution_count": 7,
   "id": "ce9be82d",
   "metadata": {},
   "outputs": [
    {
     "data": {
      "text/plain": [
       "('robert', 35, 345)"
      ]
     },
     "execution_count": 7,
     "metadata": {},
     "output_type": "execute_result"
    }
   ],
   "source": [
    "# 快速顯示多個變數\n",
    "name, age, scores"
   ]
  }
 ],
 "metadata": {
  "kernelspec": {
   "display_name": "base",
   "language": "python",
   "name": "python3"
  },
  "language_info": {
   "codemirror_mode": {
    "name": "ipython",
    "version": 3
   },
   "file_extension": ".py",
   "mimetype": "text/x-python",
   "name": "python",
   "nbconvert_exporter": "python",
   "pygments_lexer": "ipython3",
   "version": "3.12.9"
  }
 },
 "nbformat": 4,
 "nbformat_minor": 5
}
