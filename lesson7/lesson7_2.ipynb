{
 "cells": [
  {
   "cell_type": "markdown",
   "id": "ce733d0e",
   "metadata": {},
   "source": [
    "```\n",
    "print(*objects, sep=' ', end='\\n', file=None, flush=False)\n",
    "```"
   ]
  },
  {
   "cell_type": "code",
   "execution_count": 1,
   "id": "7eb2c5c2",
   "metadata": {},
   "outputs": [
    {
     "name": "stdout",
     "output_type": "stream",
     "text": [
      "1 3 5 a b c結束\n"
     ]
    }
   ],
   "source": [
    "print(1 ,3, 5, 'a', 'b', 'c', end='結束\\n')"
   ]
  },
  {
   "cell_type": "code",
   "execution_count": 1,
   "id": "72fef3b9",
   "metadata": {},
   "outputs": [
    {
     "name": "stdout",
     "output_type": "stream",
     "text": [
      "1-3-5-a-b-c結束\n"
     ]
    }
   ],
   "source": [
    "print(1 ,3, 5, 'a', 'b', 'c', end='結束\\n', sep='-')"
   ]
  }
 ],
 "metadata": {
  "kernelspec": {
   "display_name": "base",
   "language": "python",
   "name": "python3"
  },
  "language_info": {
   "codemirror_mode": {
    "name": "ipython",
    "version": 3
   },
   "file_extension": ".py",
   "mimetype": "text/x-python",
   "name": "python",
   "nbconvert_exporter": "python",
   "pygments_lexer": "ipython3",
   "version": "undefined.undefined.undefined"
  }
 },
 "nbformat": 4,
 "nbformat_minor": 5
}
