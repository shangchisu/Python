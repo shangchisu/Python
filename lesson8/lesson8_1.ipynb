{
 "cells": [
  {
   "cell_type": "markdown",
   "id": "235b195f",
   "metadata": {},
   "source": [
    "### tuple\n",
    "- immutable(不可變更的變數)\n",
    "- sequence(串列資料)\n",
    "- iterable(可重複讀取)\n",
    "- 最常用的功能-拆解法\n",
    "- 用括號符號建立\n",
    "- typehint(tuple)"
   ]
  },
  {
   "cell_type": "code",
   "execution_count": 1,
   "id": "2e3242a2",
   "metadata": {},
   "outputs": [
    {
     "name": "stdout",
     "output_type": "stream",
     "text": [
      "robert\n",
      "45\n"
     ]
    }
   ],
   "source": [
    "name, age = 'robert', 45\n",
    "print(name)\n",
    "print(age)"
   ]
  },
  {
   "cell_type": "markdown",
   "id": "db8b440a",
   "metadata": {},
   "source": [
    "### list\n",
    "- mutable(可變更的變數)\n",
    "- sequence(串列資料)\n",
    "- iterable(可重複讀取)\n",
    "- 用中括號符號[]來建立\n",
    "- typehint(list)"
   ]
  },
  {
   "cell_type": "code",
   "execution_count": null,
   "id": "704b0557",
   "metadata": {},
   "outputs": [
    {
     "data": {
      "text/plain": [
       "list"
      ]
     },
     "execution_count": 3,
     "metadata": {},
     "output_type": "execute_result"
    }
   ],
   "source": [
    "# 建立list\n",
    "weekdays = ['星期一', '星期二', '星期三', '星期四', '星期五', '星期六', '星期日']\n",
    "type(weekdays)"
   ]
  },
  {
   "cell_type": "code",
   "execution_count": null,
   "id": "afad54b0",
   "metadata": {},
   "outputs": [
    {
     "data": {
      "text/plain": [
       "'星期六'"
      ]
     },
     "execution_count": 4,
     "metadata": {},
     "output_type": "execute_result"
    }
   ],
   "source": [
    "# 取出元素和修改元素\n",
    "# 使用[index]\n",
    "weekdays[0]\n",
    "weekdays[1]\n",
    "weekdays[-1]\n",
    "weekdays[-2]"
   ]
  },
  {
   "cell_type": "code",
   "execution_count": 10,
   "id": "72f563ec",
   "metadata": {},
   "outputs": [
    {
     "data": {
      "text/plain": [
       "['星期一', '星期二', '星期三']"
      ]
     },
     "execution_count": 10,
     "metadata": {},
     "output_type": "execute_result"
    }
   ],
   "source": [
    "# [slice]\n",
    "# [起始(包含):結束(不包含)]\n",
    "weekdays[0:3]\n",
    "weekdays[-3:-1]\n",
    "weekdays[-3:] # 不寫代表到最後面\n",
    "weekdays[:3] # 代表前三個"
   ]
  }
 ],
 "metadata": {
  "kernelspec": {
   "display_name": "base",
   "language": "python",
   "name": "python3"
  },
  "language_info": {
   "codemirror_mode": {
    "name": "ipython",
    "version": 3
   },
   "file_extension": ".py",
   "mimetype": "text/x-python",
   "name": "python",
   "nbconvert_exporter": "python",
   "pygments_lexer": "ipython3",
   "version": "3.12.9"
  }
 },
 "nbformat": 4,
 "nbformat_minor": 5
}
