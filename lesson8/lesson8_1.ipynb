{
 "cells": [
  {
   "cell_type": "markdown",
   "id": "235b195f",
   "metadata": {},
   "source": [
    "### tuple\n",
    "- immutable(不可變更的變數)\n",
    "- sequence(串列資料)\n",
    "- iterable(可重複讀取)\n",
    "- 最常用的功能-拆解法\n",
    "- 用括號符號建立\n",
    "- typehint(tuple)"
   ]
  },
  {
   "cell_type": "code",
   "execution_count": 4,
   "id": "2e3242a2",
   "metadata": {},
   "outputs": [
    {
     "name": "stdout",
     "output_type": "stream",
     "text": [
      "robert\n",
      "45\n"
     ]
    }
   ],
   "source": [
    "name, age = 'robert', 45\n",
    "print(name)\n",
    "print(age)"
   ]
  },
  {
   "cell_type": "markdown",
   "id": "db8b440a",
   "metadata": {},
   "source": [
    "### list\n",
    "- mutable(可變更的變數)\n",
    "- sequence(串列資料)\n",
    "- iterable(可重複讀取)\n",
    "- 用中括號符號[]來建立\n",
    "- typehint(list)"
   ]
  },
  {
   "cell_type": "code",
   "execution_count": 5,
   "id": "704b0557",
   "metadata": {},
   "outputs": [
    {
     "data": {
      "text/plain": [
       "list"
      ]
     },
     "execution_count": 5,
     "metadata": {},
     "output_type": "execute_result"
    }
   ],
   "source": [
    "# 建立list\n",
    "weekdays = ['星期一', '星期二', '星期三', '星期四', '星期五', '星期六', '星期日']\n",
    "type(weekdays)"
   ]
  },
  {
   "cell_type": "code",
   "execution_count": 6,
   "id": "afad54b0",
   "metadata": {},
   "outputs": [
    {
     "data": {
      "text/plain": [
       "'星期六'"
      ]
     },
     "execution_count": 6,
     "metadata": {},
     "output_type": "execute_result"
    }
   ],
   "source": [
    "# 取出元素和修改元素\n",
    "# 使用[index]\n",
    "weekdays[0]\n",
    "weekdays[1]\n",
    "weekdays[-1]\n",
    "weekdays[-2]"
   ]
  },
  {
   "cell_type": "code",
   "execution_count": 7,
   "id": "72f563ec",
   "metadata": {},
   "outputs": [
    {
     "data": {
      "text/plain": [
       "['星期一', '星期二', '星期三']"
      ]
     },
     "execution_count": 7,
     "metadata": {},
     "output_type": "execute_result"
    }
   ],
   "source": [
    "# [slice]\n",
    "# [起始(包含):結束(不包含)]\n",
    "weekdays[0:3]\n",
    "weekdays[-3:-1]\n",
    "weekdays[-3:] # 不寫代表到最後面\n",
    "weekdays[:3] # 代表前三個"
   ]
  },
  {
   "cell_type": "code",
   "execution_count": 8,
   "id": "2d1f77ce",
   "metadata": {},
   "outputs": [
    {
     "name": "stdout",
     "output_type": "stream",
     "text": [
      "星期一\n",
      "星期二\n",
      "星期三\n",
      "星期四\n",
      "星期五\n",
      "星期六\n",
      "星期日\n"
     ]
    }
   ],
   "source": [
    "for day in weekdays:\n",
    "    print(day)"
   ]
  },
  {
   "cell_type": "markdown",
   "id": "2ad7bdc0",
   "metadata": {},
   "source": [
    "### dict\n",
    "- mutable(可變更的變數)\n",
    "- Mapping(mapping資料)\n",
    "- iterable(可重複讀取)\n",
    "- 用大括號符號{key:value}來建立\n",
    "- typehint(dict)"
   ]
  },
  {
   "cell_type": "code",
   "execution_count": 9,
   "id": "68dca63b",
   "metadata": {},
   "outputs": [
    {
     "data": {
      "text/plain": [
       "{'tw': 'Taiwan', 'jp': 'Japan', 'hk': 'Hong Kong'}"
      ]
     },
     "execution_count": 9,
     "metadata": {},
     "output_type": "execute_result"
    }
   ],
   "source": [
    "codes = {'tw':'Taiwan', 'jp': 'Japan', 'hk': 'Hong Kong'}\n",
    "codes"
   ]
  },
  {
   "cell_type": "code",
   "execution_count": 10,
   "id": "1076105d",
   "metadata": {},
   "outputs": [
    {
     "data": {
      "text/plain": [
       "'Taiwan'"
      ]
     },
     "execution_count": 10,
     "metadata": {},
     "output_type": "execute_result"
    }
   ],
   "source": [
    "codes['tw']"
   ]
  },
  {
   "cell_type": "code",
   "execution_count": 11,
   "id": "0325164e",
   "metadata": {},
   "outputs": [
    {
     "name": "stdout",
     "output_type": "stream",
     "text": [
      "tw\n",
      "Taiwan\n",
      "======\n",
      "jp\n",
      "Japan\n",
      "======\n",
      "hk\n",
      "Hong Kong\n",
      "======\n"
     ]
    }
   ],
   "source": [
    "for key in codes:\n",
    "    print(key)\n",
    "    print(codes[key])\n",
    "    print('======')"
   ]
  }
 ],
 "metadata": {
  "kernelspec": {
   "display_name": "base",
   "language": "python",
   "name": "python3"
  },
  "language_info": {
   "codemirror_mode": {
    "name": "ipython",
    "version": 3
   },
   "file_extension": ".py",
   "mimetype": "text/x-python",
   "name": "python",
   "nbconvert_exporter": "python",
   "pygments_lexer": "ipython3",
   "version": "3.12.9"
  }
 },
 "nbformat": 4,
 "nbformat_minor": 5
}
