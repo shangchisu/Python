{
 "cells": [
  {
   "cell_type": "markdown",
   "id": "927b7ddb",
   "metadata": {},
   "source": [
    "### dataclass"
   ]
  },
  {
   "cell_type": "code",
   "execution_count": 5,
   "id": "fae48564",
   "metadata": {},
   "outputs": [],
   "source": [
    "from dataclasses import dataclass\n",
    "\n",
    "@dataclass\n",
    "class Student:\n",
    "    name:str\n",
    "    chinese:int\n",
    "    english:int\n",
    "    math:int"
   ]
  },
  {
   "cell_type": "code",
   "execution_count": 7,
   "id": "8155f9e9",
   "metadata": {},
   "outputs": [
    {
     "data": {
      "text/plain": [
       "list"
      ]
     },
     "execution_count": 7,
     "metadata": {},
     "output_type": "execute_result"
    }
   ],
   "source": [
    "# 透過class Student建立實體\n",
    "students:list[Student] = [Student(name='rober',chinese=98, english=76, math=89),\n",
    "Student(name='jenny', chinese=89, english=78, math=65)]\n",
    "\n",
    "type(students)"
   ]
  },
  {
   "cell_type": "code",
   "execution_count": 8,
   "id": "e4be7619",
   "metadata": {},
   "outputs": [
    {
     "name": "stdout",
     "output_type": "stream",
     "text": [
      "rober\n",
      "98\n",
      "89\n",
      "76\n",
      "=====================\n",
      "jenny\n",
      "89\n",
      "65\n",
      "78\n",
      "=====================\n"
     ]
    }
   ],
   "source": [
    "for student in students:\n",
    "    print(student.name)\n",
    "    print(student.chinese)\n",
    "    print(student.math)\n",
    "    print(student.english)\n",
    "    print('=====================')"
   ]
  }
 ],
 "metadata": {
  "kernelspec": {
   "display_name": "base",
   "language": "python",
   "name": "python3"
  },
  "language_info": {
   "codemirror_mode": {
    "name": "ipython",
    "version": 3
   },
   "file_extension": ".py",
   "mimetype": "text/x-python",
   "name": "python",
   "nbconvert_exporter": "python",
   "pygments_lexer": "ipython3",
   "version": "3.12.9"
  }
 },
 "nbformat": 4,
 "nbformat_minor": 5
}
