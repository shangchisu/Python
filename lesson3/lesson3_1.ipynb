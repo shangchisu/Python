{
 "cells": [
  {
   "cell_type": "markdown",
   "id": "ba0182e6",
   "metadata": {},
   "source": [
    "### 數值運算(int,float)\n",
    "### 數學運算子\n",
    "### 運算子運算順序"
   ]
  },
  {
   "cell_type": "code",
   "execution_count": 1,
   "id": "7f343f65",
   "metadata": {},
   "outputs": [
    {
     "data": {
      "text/plain": [
       "2"
      ]
     },
     "execution_count": 1,
     "metadata": {},
     "output_type": "execute_result"
    }
   ],
   "source": [
    "1 + 1"
   ]
  },
  {
   "cell_type": "code",
   "execution_count": null,
   "id": "392b794f",
   "metadata": {},
   "outputs": [
    {
     "data": {
      "text/plain": [
       "25"
      ]
     },
     "execution_count": 3,
     "metadata": {},
     "output_type": "execute_result"
    }
   ],
   "source": [
    "5 + 10 #運算式(被銷毀)\n",
    "20 + 5 #運算式"
   ]
  },
  {
   "cell_type": "markdown",
   "id": "dcac6bd4",
   "metadata": {},
   "source": [
    "### 建立變數\n",
    "- 依靠指定運算子\n"
   ]
  },
  {
   "cell_type": "code",
   "execution_count": null,
   "id": "91990f9f",
   "metadata": {},
   "outputs": [
    {
     "name": "stdout",
     "output_type": "stream",
     "text": [
      "total= 40\n"
     ]
    }
   ],
   "source": [
    "n = 15 #敘述式 \n",
    "m = 25 #敘述式 \n",
    "total = n + m #這是一件敘述 +是算術運算子 =是指定運算子 total敘述式\n",
    "print(\"total=\",total) #敘述式"
   ]
  },
  {
   "cell_type": "code",
   "execution_count": null,
   "id": "906079a5",
   "metadata": {},
   "outputs": [
    {
     "name": "stdout",
     "output_type": "stream",
     "text": [
      "15 25\n"
     ]
    }
   ],
   "source": [
    "x = 5 + 10\n",
    "y = 20 + 5\n",
    "print(x , y) #每一行都是敘述式"
   ]
  },
  {
   "cell_type": "markdown",
   "id": "f98a85d0",
   "metadata": {},
   "source": [
    "### 輸入 \n",
    "- intput()\n",
    "\n",
    "### 輸出\n",
    "- print()"
   ]
  },
  {
   "cell_type": "code",
   "execution_count": null,
   "id": "5f810ba8",
   "metadata": {},
   "outputs": [
    {
     "name": "stdout",
     "output_type": "stream",
     "text": [
      "您輸入的是: 20\n"
     ]
    }
   ],
   "source": [
    "value_str = input(\"請輸入整數:\") \n",
    "value = int(value_str)\n",
    "print(\"您輸入的是:\", value)"
   ]
  },
  {
   "cell_type": "code",
   "execution_count": 14,
   "id": "e2e23327",
   "metadata": {},
   "outputs": [
    {
     "name": "stdout",
     "output_type": "stream",
     "text": [
      "兩數相加的合是: 23452\n"
     ]
    }
   ],
   "source": [
    "value1 = int(input(\"請輸入第一個整數:\")) #intput字串 int字串轉整數\n",
    "value2 = int(input(\"請輸入第二個整數:\")) #intput字串 int字串轉整數\n",
    "total = value1 + value2\n",
    "print(\"兩數相加的合是:\", total)"
   ]
  }
 ],
 "metadata": {
  "kernelspec": {
   "display_name": "base",
   "language": "python",
   "name": "python3"
  },
  "language_info": {
   "codemirror_mode": {
    "name": "ipython",
    "version": 3
   },
   "file_extension": ".py",
   "mimetype": "text/x-python",
   "name": "python",
   "nbconvert_exporter": "python",
   "pygments_lexer": "ipython3",
   "version": "3.12.9"
  }
 },
 "nbformat": 4,
 "nbformat_minor": 5
}
