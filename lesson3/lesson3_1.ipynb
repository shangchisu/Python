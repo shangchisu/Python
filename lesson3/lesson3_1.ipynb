{
 "cells": [
  {
   "cell_type": "markdown",
   "id": "ba0182e6",
   "metadata": {},
   "source": [
    "### 數值運算(int,float)\n",
    "### 數學運算子\n",
    "### 運算子運算順序"
   ]
  },
  {
   "cell_type": "code",
   "execution_count": 1,
   "id": "7f343f65",
   "metadata": {},
   "outputs": [
    {
     "data": {
      "text/plain": [
       "2"
      ]
     },
     "execution_count": 1,
     "metadata": {},
     "output_type": "execute_result"
    }
   ],
   "source": [
    "1 + 1"
   ]
  }
 ],
 "metadata": {
  "kernelspec": {
   "display_name": "base",
   "language": "python",
   "name": "python3"
  },
  "language_info": {
   "codemirror_mode": {
    "name": "ipython",
    "version": 3
   },
   "file_extension": ".py",
   "mimetype": "text/x-python",
   "name": "python",
   "nbconvert_exporter": "python",
   "pygments_lexer": "ipython3",
   "version": "3.12.9"
  }
 },
 "nbformat": 4,
 "nbformat_minor": 5
}
