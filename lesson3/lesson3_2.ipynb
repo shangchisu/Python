{
 "cells": [
  {
   "cell_type": "markdown",
   "id": "f43f5f3e",
   "metadata": {},
   "source": [
    "# 複合指定運算子\n",
    "- \\+=\n",
    "- \\-=\n",
    "- /=\n",
    "- //=\n",
    "- %=\n",
    "- **="
   ]
  },
  {
   "cell_type": "code",
   "execution_count": 4,
   "id": "de3eaa63",
   "metadata": {},
   "outputs": [
    {
     "name": "stdout",
     "output_type": "stream",
     "text": [
      "15\n"
     ]
    }
   ],
   "source": [
    "n = 5\n",
    "n = n + 10\n",
    "print(n)"
   ]
  },
  {
   "cell_type": "code",
   "execution_count": 3,
   "id": "e69c0665",
   "metadata": {},
   "outputs": [
    {
     "name": "stdout",
     "output_type": "stream",
     "text": [
      "15\n"
     ]
    }
   ],
   "source": [
    "n = 5\n",
    "n += 10\n",
    "print(n)"
   ]
  },
  {
   "cell_type": "markdown",
   "id": "3b1ed352",
   "metadata": {},
   "source": [
    "### 使用內建函式庫(math)"
   ]
  },
  {
   "cell_type": "code",
   "execution_count": 5,
   "id": "6959059e",
   "metadata": {},
   "outputs": [
    {
     "name": "stdout",
     "output_type": "stream",
     "text": [
      "鄰邊: 3\n",
      "對邊: 4\n",
      "斜邊: 5.0\n"
     ]
    }
   ],
   "source": [
    "#國中數學\n",
    "import math\n",
    "side = eval(input(\"請輸入鄰邊:\"))\n",
    "another_side = eval(input(\"請輸入對邊:\"))\n",
    "result = math.sqrt(side ** 2 + another_side ** 2)\n",
    "print(\"鄰邊:\", side)\n",
    "print(\"對邊:\", another_side)\n",
    "print(\"斜邊:\", result)\n"
   ]
  },
  {
   "cell_type": "code",
   "execution_count": null,
   "id": "37de092f",
   "metadata": {},
   "outputs": [
    {
     "name": "stdout",
     "output_type": "stream",
     "text": [
      "對邊: 2.5\n",
      "斜邊: 5\n",
      "角度是: 30.000000000000004\n"
     ]
    }
   ],
   "source": [
    "#高中數學\n",
    "import math\n",
    "side = eval(input(\"請輸入對邊:\"))\n",
    "another_side = eval(input(\"請輸入斜邊:\"))\n",
    "radian = math.asin(side / another_side)\n",
    "degree = math.degrees(radian)\n",
    "print(\"對邊:\", side)\n",
    "print(\"斜邊:\", another_side)\n",
    "print(\"角度是:\", degree)"
   ]
  },
  {
   "cell_type": "markdown",
   "id": "53561799",
   "metadata": {},
   "source": [
    "# 字串差補(字串格式化)"
   ]
  },
  {
   "cell_type": "code",
   "execution_count": null,
   "id": "c3d1ed84",
   "metadata": {},
   "outputs": [
    {
     "name": "stdout",
     "output_type": "stream",
     "text": [
      "國文成績92數學成績100\n"
     ]
    }
   ],
   "source": [
    "#字串相加\n",
    "chincese = 92\n",
    "math = 100\n",
    "print(\"國文成績\" + str(chincese) + \"數學成績\" + str(math))"
   ]
  },
  {
   "cell_type": "code",
   "execution_count": null,
   "id": "cbd46821",
   "metadata": {},
   "outputs": [
    {
     "name": "stdout",
     "output_type": "stream",
     "text": [
      "國文成績:92.4,數學成績:100\n"
     ]
    }
   ],
   "source": [
    "#字串和變數整合,成為全新字串\n",
    "#字串差補chincese:.1f\n",
    "chincese = 92.3756\n",
    "math = 100\n",
    "print(f\"國文成績:{chincese:.1f},數學成績:{math}\")"
   ]
  },
  {
   "cell_type": "code",
   "execution_count": 17,
   "id": "e1805f5c",
   "metadata": {},
   "outputs": [
    {
     "name": "stdout",
     "output_type": "stream",
     "text": [
      "對邊:2.5\n",
      "斜邊:5\n",
      "角度是30.00\n"
     ]
    }
   ],
   "source": [
    "#高中數學\n",
    "import math\n",
    "side = eval(input(\"請輸入對邊:\"))\n",
    "another_side = eval(input(\"請輸入斜邊:\"))\n",
    "radian = math.asin(side / another_side)\n",
    "degree = math.degrees(radian)\n",
    "print(f\"對邊:{side}\")\n",
    "print(f\"斜邊:{another_side}\")\n",
    "print(f\"角度是{degree:.2f}\")"
   ]
  },
  {
   "cell_type": "markdown",
   "id": "b2c3e27d",
   "metadata": {},
   "source": [
    "### 第一次練習:bmi計算"
   ]
  },
  {
   "cell_type": "code",
   "execution_count": 22,
   "id": "8fea03bd",
   "metadata": {},
   "outputs": [
    {
     "name": "stdout",
     "output_type": "stream",
     "text": [
      "身高(公分):174\n",
      "體重(公斤):65\n",
      "bmi21.5\n"
     ]
    }
   ],
   "source": [
    "#bmi計算\n",
    "import math\n",
    "hight = eval(input(\"請輸入身高(公分):\"))\n",
    "weight = eval(input(\"請輸入體重(公斤):\"))\n",
    "bmi = weight / (hight / 100) **2\n",
    "print(f\"身高(公分):{hight}\")\n",
    "print(f\"體重(公斤):{weight}\")\n",
    "print(f\"bmi{bmi:.1f}\")"
   ]
  }
 ],
 "metadata": {
  "kernelspec": {
   "display_name": "base",
   "language": "python",
   "name": "python3"
  },
  "language_info": {
   "codemirror_mode": {
    "name": "ipython",
    "version": 3
   },
   "file_extension": ".py",
   "mimetype": "text/x-python",
   "name": "python",
   "nbconvert_exporter": "python",
   "pygments_lexer": "ipython3",
   "version": "3.12.9"
  }
 },
 "nbformat": 4,
 "nbformat_minor": 5
}
