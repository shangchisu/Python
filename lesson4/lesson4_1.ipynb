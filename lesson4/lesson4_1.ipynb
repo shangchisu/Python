{
 "cells": [
  {
   "cell_type": "markdown",
   "id": "9630960e",
   "metadata": {},
   "source": [
    "#### 單向選擇，可能執行，也有可能不執行"
   ]
  },
  {
   "cell_type": "code",
   "execution_count": 1,
   "id": "cdd1969d",
   "metadata": {},
   "outputs": [
    {
     "name": "stdout",
     "output_type": "stream",
     "text": [
      "這是True的程式區塊\n",
      "現在是True\n",
      "應用程式結束\n"
     ]
    }
   ],
   "source": [
    "if True:\n",
    "    print(\"這是True的程式區塊\")\n",
    "    print(\"現在是True\")\n",
    "print(\"應用程式結束\")"
   ]
  },
  {
   "cell_type": "code",
   "execution_count": 2,
   "id": "65d9b371",
   "metadata": {},
   "outputs": [
    {
     "name": "stdout",
     "output_type": "stream",
     "text": [
      "應用程式結束\n"
     ]
    }
   ],
   "source": [
    "if False:\n",
    "    print(\"這是True的程式區塊\")\n",
    "    print(\"現在是True\")\n",
    "print(\"應用程式結束\")"
   ]
  },
  {
   "cell_type": "markdown",
   "id": "ce80c269",
   "metadata": {},
   "source": [
    "### 雙項選擇,一定執行其中一個程式區塊\n",
    "### 只要有else,一定執行其中一個程式區塊"
   ]
  },
  {
   "cell_type": "code",
   "execution_count": 4,
   "id": "8b44976f",
   "metadata": {},
   "outputs": [
    {
     "name": "stdout",
     "output_type": "stream",
     "text": [
      "這是True的程式區塊\n",
      "現在是True\n",
      "應用程式結束\n"
     ]
    }
   ],
   "source": [
    "if False:\n",
    "    print(\"這是False的程式區塊\")\n",
    "    print(\"現在是False\")\n",
    "else:\n",
    "    print(\"這是True的程式區塊\")\n",
    "    print(\"現在是True\")\n",
    "print(\"應用程式結束\")"
   ]
  },
  {
   "cell_type": "code",
   "execution_count": 5,
   "id": "516f4014",
   "metadata": {},
   "outputs": [
    {
     "name": "stdout",
     "output_type": "stream",
     "text": [
      "這是True的程式區塊\n",
      "現在是True\n",
      "應用程式結束\n"
     ]
    }
   ],
   "source": [
    "if True:\n",
    "    print(\"這是True的程式區塊\")\n",
    "    print(\"現在是True\")\n",
    "else:\n",
    "    print(\"這是False的程式區塊\")\n",
    "    print(\"現在是False\")\n",
    "print(\"應用程式結束\")"
   ]
  },
  {
   "cell_type": "code",
   "execution_count": 7,
   "id": "a0794b64",
   "metadata": {},
   "outputs": [
    {
     "name": "stdout",
     "output_type": "stream",
     "text": [
      "可以考駕照\n"
     ]
    }
   ],
   "source": [
    "age : int = int(input(\"請輸入age\"))\n",
    "if age >= 18:\n",
    "    print(\"可以考駕照\")\n",
    "else:\n",
    "    print(\"不可以考駕照\")"
   ]
  },
  {
   "cell_type": "markdown",
   "id": "51090696",
   "metadata": {},
   "source": [
    "### 學生總分為300\n",
    "### 有些學生可以加分5%"
   ]
  },
  {
   "cell_type": "code",
   "execution_count": 10,
   "id": "4ba76eca",
   "metadata": {},
   "outputs": [
    {
     "name": "stdout",
     "output_type": "stream",
     "text": [
      "287\n"
     ]
    }
   ],
   "source": [
    "scores: int = int (input(\"請輸入學生分數(最高300分)\"))\n",
    "is_add: str = input(\"學生是否符合加分條件?(y,n)\")\n",
    "if (is_add == \"y\"):\n",
    "    scores *= 1.05\n",
    "print(round(scores))\n"
   ]
  }
 ],
 "metadata": {
  "kernelspec": {
   "display_name": "base",
   "language": "python",
   "name": "python3"
  },
  "language_info": {
   "codemirror_mode": {
    "name": "ipython",
    "version": 3
   },
   "file_extension": ".py",
   "mimetype": "text/x-python",
   "name": "python",
   "nbconvert_exporter": "python",
   "pygments_lexer": "ipython3",
   "version": "3.12.9"
  }
 },
 "nbformat": 4,
 "nbformat_minor": 5
}
