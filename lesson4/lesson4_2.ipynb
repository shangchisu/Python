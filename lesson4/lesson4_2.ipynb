{
 "cells": [
  {
   "cell_type": "code",
   "execution_count": 2,
   "id": "b126de34",
   "metadata": {},
   "outputs": [
    {
     "name": "stdout",
     "output_type": "stream",
     "text": [
      "數值正確\n"
     ]
    }
   ],
   "source": [
    "value:int = int (input(\"輸入一個數值:\"))\n",
    "if value >= 120:\n",
    "    if value <=220:\n",
    "        print(\"數值正確\")"
   ]
  },
  {
   "cell_type": "code",
   "execution_count": null,
   "id": "4406d9e8",
   "metadata": {},
   "outputs": [
    {
     "name": "stdout",
     "output_type": "stream",
     "text": [
      "數值120-200\n"
     ]
    }
   ],
   "source": [
    "#同時(巢狀)\n",
    "value:int = int (input(\"輸入一個數值:\"))\n",
    "if value >= 120:\n",
    "    if value <=220:\n",
    "        print(\"數值120-200\")"
   ]
  },
  {
   "cell_type": "code",
   "execution_count": null,
   "id": "4a942dad",
   "metadata": {},
   "outputs": [
    {
     "name": "stdout",
     "output_type": "stream",
     "text": [
      "大於220\n"
     ]
    }
   ],
   "source": [
    "#或者\n",
    "value:int = int (input(\"輸入一個數值:\"))\n",
    "if value < 120:\n",
    "    print(\"小於120\")\n",
    "if value > 220:\n",
    "    print(\"大於220\")\n"
   ]
  },
  {
   "cell_type": "code",
   "execution_count": null,
   "id": "e805c434",
   "metadata": {},
   "outputs": [
    {
     "name": "stdout",
     "output_type": "stream",
     "text": [
      "數值120~220\n"
     ]
    }
   ],
   "source": [
    "value:int = int (input(\"輸入一個數值:\"))\n",
    "if value >= 120 and value <= 220:\n",
    "    print(\"數值120~220\")"
   ]
  },
  {
   "cell_type": "code",
   "execution_count": 11,
   "id": "6beb1cf2",
   "metadata": {},
   "outputs": [
    {
     "name": "stdout",
     "output_type": "stream",
     "text": [
      "小於120大於220\n"
     ]
    }
   ],
   "source": [
    "value:int = int (input(\"輸入一個數值:\"))\n",
    "if value > 120 or value < 220:\n",
    "    print(\"小於120大於220\")"
   ]
  },
  {
   "cell_type": "code",
   "execution_count": 14,
   "id": "07569b55",
   "metadata": {},
   "outputs": [
    {
     "name": "stdout",
     "output_type": "stream",
     "text": [
      "優\n"
     ]
    }
   ],
   "source": [
    "scores = int(input(\"scores:\"))\n",
    "if scores >= 80:\n",
    "    print(\"優\")\n",
    "else :\n",
    "    if scores >= 60:\n",
    "        print(\"甲\")\n",
    "    else :\n",
    "        print(\"不及格\")"
   ]
  },
  {
   "cell_type": "code",
   "execution_count": 19,
   "id": "b789d5c1",
   "metadata": {},
   "outputs": [
    {
     "name": "stdout",
     "output_type": "stream",
     "text": [
      "優\n"
     ]
    }
   ],
   "source": [
    "scores = int(input(\"scores:\"))\n",
    "if scores >= 80:\n",
    "    print(\"優\")\n",
    "elif scores >= 60 :\n",
    "     print(\"甲\") \n",
    "else:\n",
    "    print(\"不及格\")"
   ]
  }
 ],
 "metadata": {
  "kernelspec": {
   "display_name": "base",
   "language": "python",
   "name": "python3"
  },
  "language_info": {
   "codemirror_mode": {
    "name": "ipython",
    "version": 3
   },
   "file_extension": ".py",
   "mimetype": "text/x-python",
   "name": "python",
   "nbconvert_exporter": "python",
   "pygments_lexer": "ipython3",
   "version": "3.12.9"
  }
 },
 "nbformat": 4,
 "nbformat_minor": 5
}
