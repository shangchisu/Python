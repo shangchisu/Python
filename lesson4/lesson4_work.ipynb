{
 "cells": [
  {
   "cell_type": "code",
   "execution_count": 26,
   "id": "5a70bcc2",
   "metadata": {},
   "outputs": [
    {
     "name": "stdout",
     "output_type": "stream",
     "text": [
      "身高(公分):140\n",
      "體重(公斤):60\n",
      "bmi30.6\n",
      "太胖了，需要克制飲食與多運動\n",
      "應用程式結束\n"
     ]
    }
   ],
   "source": [
    "try:\n",
    "    hight: int = int (input(\"請輸入您的身高(120~220cm間)\"))\n",
    "    if hight < 120 or hight > 220:\n",
    "        raise Exception(\"未在規定範圍(120~220cm間)，請重新輸入\") #自己身高raise錯誤\n",
    "    weight: int = int (input(\"請輸入您的體重(30~200kg間)\"))\n",
    "    if weight < 30 or weight > 200:\n",
    "        raise Exception(\"未在規定範圍(30~200kg間)，請重新輸入\") #自己體重raise錯誤\n",
    "    bmi = weight / (hight / 100) **2\n",
    "    \n",
    "except ValueError:\n",
    "    print(\"輸入格式錯誤\")\n",
    "except Exception as e:\n",
    "    print(e)\n",
    "else:    \n",
    "    print(f\"身高(公分):{hight}\")\n",
    "    print(f\"體重(公斤):{weight}\")\n",
    "    print(f\"bmi{bmi:.1f}\")\n",
    "    \n",
    "    if bmi>=27:\n",
    "        print(\"太胖了，需要克制飲食與多運動\")\n",
    "    elif bmi>=24:\n",
    "        print(\"過重，需要運動!\")\n",
    "    elif bmi<18.5:\n",
    "        print(\"過輕，不要挑食多吃營養的食物\")\n",
    "    else:\n",
    "         print(\"正常，太棒了!\")\n",
    "print(\"應用程式結束\")"
   ]
  }
 ],
 "metadata": {
  "kernelspec": {
   "display_name": "base",
   "language": "python",
   "name": "python3"
  },
  "language_info": {
   "codemirror_mode": {
    "name": "ipython",
    "version": 3
   },
   "file_extension": ".py",
   "mimetype": "text/x-python",
   "name": "python",
   "nbconvert_exporter": "python",
   "pygments_lexer": "ipython3",
   "version": "3.12.9"
  }
 },
 "nbformat": 4,
 "nbformat_minor": 5
}
